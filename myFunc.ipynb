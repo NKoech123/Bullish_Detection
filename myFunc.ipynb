{
 "cells": [
  {
   "cell_type": "code",
   "metadata": {
    "tags": [],
    "cell_id": "00000-7b085ea8-a7f4-4a41-8bae-c619cee91f69",
    "deepnote_to_be_reexecuted": false,
    "source_hash": "e4bb5dd",
    "execution_start": 1639993306490,
    "execution_millis": 0,
    "deepnote_output_heights": [
     null,
     21.1875
    ],
    "deepnote_cell_type": "code"
   },
   "source": "#Trending Crypto in CoinmarketCap\nimport pandas as pd\nimport requests,pytz # $ pip install pytz\nfrom datetime import datetime\nimport schedule,time\n\n\ndef refresh_data():\n    \n    url = \"https://coinmarketcap.com/trending-cryptocurrencies/\"\n    while True:\n\n        x=1   #going to loop 10 times\n        prices=[]\n        while x>0:\n            for _ in range(1):\n                '''\n                Get Dta\n                '''\n                try:\n                    r = requests.get(url)\n                except (requests.Timeout, requests.ConnectionError, requests.HTTPError) as err:\n                    print(\"Error while trying to POST pid data\")\n                df_newcoin = pd.read_html(r.text) # parse all the tables in webpages to a list\n                df=df_newcoin[0].drop(columns=['Last 7 Days', 'Unnamed: 10','Unnamed: 0','7d','30d']) #drop unrequired columns\n\n                '''\n                Data Cleaning\n                '''\n                #Remove dollar signs\n                df['Price']=df['Price'].str.replace('$','',regex=True)\n                df['Market Cap']=df['Market Cap'].str.replace('$','',regex=True)   \n                df['Volume(24h)']=df['Volume(24h)'].str.replace('$','',regex=True)\n\n                #Remove % in 25h column\n                df['24h']=df['24h'].str.replace('%','',regex=True)\n\n                #Price: Convert from String to Float\n                price_column_num=2\n                for count,price in enumerate(df.Price):\n\n                    try:\n                        df.iloc[count,price_column_num]=float(price)\n\n                    except ValueError:\n                        df.iloc[count,price_column_num]='Nan'    #remove these rows instead of replacing with Nan\n\n\n                #Market Cap: Convert to Float.  \n                mkcap_column_num=4\n                for row_num,mkcap_Value in enumerate(df['Market Cap']):\n                    if type(mkcap_Value)==str and len(mkcap_Value)>2:\n                        mkcap_Value=mkcap_Value.replace(',','')\n                        df.iloc[row_num,mkcap_column_num]=float(mkcap_Value)\n\n                #24h Column: Convert to Float.  \n                hour_column_num=3\n                for row_num,hour_Value in enumerate(df['24h']):\n                    if type(hour_Value)==str:\n                        df.iloc[row_num,hour_column_num]=float(hour_Value)\n\n\n                #Include time column utc/Los_Angeles tz\n                df['date_time']=datetime.now(pytz.timezone(\"America/Los_Angeles\"))\n\n                \n                #Get the price of the first row\n                price=df['Price'][1]\n\n\n            x-=1\n    return price\n\n#time.sleep(3)\n#refresh_data()",
   "outputs": [],
   "execution_count": null
  },
  {
   "cell_type": "code",
   "metadata": {
    "tags": [],
    "cell_id": "00003-8a3eebb2-0814-4a32-b960-f42a5074b979",
    "deepnote_to_be_reexecuted": false,
    "source_hash": "265f2d55",
    "execution_start": 1639993591628,
    "execution_millis": 4496,
    "deepnote_output_heights": [
     21.1875
    ],
    "deepnote_cell_type": "code"
   },
   "source": "def refresh_data():\n    url = \"https://coinmarketcap.com/trending-cryptocurrencies/\"\n    try:\n        r = requests.get(url)\n    except (requests.Timeout, requests.ConnectionError, requests.HTTPError) as err:\n        print(\"Error while trying to POST pid data\")\n    df_newcoin = pd.read_html(r.text) # parse all the tables in webpages to a list\n    df=df_newcoin[0].drop(columns=['Last 7 Days', 'Unnamed: 10','Unnamed: 0','7d','30d']) #drop unrequired columns\n\n    x=1   #going to loop 10 times\n    prices=[]\n    while x>0:\n        for _ in range(2):\n            price=df['Price'][0]\n            prices.append(price)\n            time.sleep(60)\n\n        x-=1\n    return prices\n\n#time.sleep(10) #we will have to create a scheduler for the function to run every 1 hr, and store data to psql. Then psql plots the graph\nrefresh_data()\n",
   "outputs": [
    {
     "output_type": "error",
     "ename": "KeyboardInterrupt",
     "evalue": "",
     "traceback": [
      "\u001b[0;31m---------------------------------------------------------------------------\u001b[0m",
      "\u001b[0;31mKeyboardInterrupt\u001b[0m                         Traceback (most recent call last)",
      "\u001b[0;32m<ipython-input-4-cdbd70c771f4>\u001b[0m in \u001b[0;36m<module>\u001b[0;34m\u001b[0m\n\u001b[1;32m     20\u001b[0m \u001b[0;34m\u001b[0m\u001b[0m\n\u001b[1;32m     21\u001b[0m \u001b[0;31m#time.sleep(10) #we will have to create a scheduler for the function to run every 1 hr, and store data to psql. Then psql plots the graph\u001b[0m\u001b[0;34m\u001b[0m\u001b[0;34m\u001b[0m\u001b[0m\n\u001b[0;32m---> 22\u001b[0;31m \u001b[0mrefresh_data\u001b[0m\u001b[0;34m(\u001b[0m\u001b[0;34m)\u001b[0m\u001b[0;34m\u001b[0m\u001b[0;34m\u001b[0m\u001b[0m\n\u001b[0m",
      "\u001b[0;32m<ipython-input-4-cdbd70c771f4>\u001b[0m in \u001b[0;36mrefresh_data\u001b[0;34m()\u001b[0m\n\u001b[1;32m     14\u001b[0m             \u001b[0mprice\u001b[0m\u001b[0;34m=\u001b[0m\u001b[0mdf\u001b[0m\u001b[0;34m[\u001b[0m\u001b[0;34m'Price'\u001b[0m\u001b[0;34m]\u001b[0m\u001b[0;34m[\u001b[0m\u001b[0;36m0\u001b[0m\u001b[0;34m]\u001b[0m\u001b[0;34m\u001b[0m\u001b[0;34m\u001b[0m\u001b[0m\n\u001b[1;32m     15\u001b[0m             \u001b[0mprices\u001b[0m\u001b[0;34m.\u001b[0m\u001b[0mappend\u001b[0m\u001b[0;34m(\u001b[0m\u001b[0mprice\u001b[0m\u001b[0;34m)\u001b[0m\u001b[0;34m\u001b[0m\u001b[0;34m\u001b[0m\u001b[0m\n\u001b[0;32m---> 16\u001b[0;31m             \u001b[0mtime\u001b[0m\u001b[0;34m.\u001b[0m\u001b[0msleep\u001b[0m\u001b[0;34m(\u001b[0m\u001b[0;36m60\u001b[0m\u001b[0;34m)\u001b[0m\u001b[0;34m\u001b[0m\u001b[0;34m\u001b[0m\u001b[0m\n\u001b[0m\u001b[1;32m     17\u001b[0m \u001b[0;34m\u001b[0m\u001b[0m\n\u001b[1;32m     18\u001b[0m         \u001b[0mx\u001b[0m\u001b[0;34m-=\u001b[0m\u001b[0;36m1\u001b[0m\u001b[0;34m\u001b[0m\u001b[0;34m\u001b[0m\u001b[0m\n",
      "\u001b[0;31mKeyboardInterrupt\u001b[0m: "
     ],
     "data": {}
    }
   ],
   "execution_count": null
  },
  {
   "cell_type": "code",
   "metadata": {
    "tags": [],
    "cell_id": "00003-f855fc33-8ad0-43ad-9077-c3291adbdf27",
    "deepnote_to_be_reexecuted": false,
    "source_hash": "e3c784f8",
    "execution_start": 1639993426762,
    "execution_millis": 284,
    "deepnote_cell_type": "code"
   },
   "source": "#Saving to Database\nimport psycopg2\nimport sys\n\n#Enter the values for you database connection\ndsn_database = \"<database name>\"            # e.g. \"compose\"\ndsn_hostname = \"<your host name>\" # e.g.: \"aws-us-east-1-portal.4.dblayer.com\"\ndsn_port = \"<port>\"                 # e.g. 11101 \ndsn_uid = \"<your user id>\"        # e.g. \"admin\"\ndsn_pwd = \"<your password>\"      # e.g. \"xxx\"\n\n\ntry:\n    conn_string = \"host=\"+dsn_hostname+\" port=\"+dsn_port+\" dbname=\"+dsn_database+\" user=\"+dsn_uid+\" password=\"+dsn_pwd\n    print \"Connecting to database\\n  ->%s\" % (conn_string)\n    conn=psycopg2.connect(conn_string)\n    print \"Connected!\\n\"\nexcept:\n    print \"Unable to connect to the database.\"\n\ncursor = conn.cursor()\ncursor.execute(\"\"\"SELECT datname from pg_database\"\"\")\nrows = cursor.fetchall()\n\n",
   "outputs": [
    {
     "output_type": "error",
     "ename": "SyntaxError",
     "evalue": "invalid syntax (<ipython-input-3-15f450d19d13>, line 15)",
     "traceback": [
      "\u001b[0;36m  File \u001b[0;32m\"<ipython-input-3-15f450d19d13>\"\u001b[0;36m, line \u001b[0;32m15\u001b[0m\n\u001b[0;31m    print \"Connecting to database\\n  ->%s\" % (conn_string)\u001b[0m\n\u001b[0m          ^\u001b[0m\n\u001b[0;31mSyntaxError\u001b[0m\u001b[0;31m:\u001b[0m invalid syntax\n"
     ],
     "data": {}
    }
   ],
   "execution_count": null
  },
  {
   "cell_type": "markdown",
   "source": "<a style='text-decoration:none;line-height:16px;display:flex;color:#5B5B62;padding:10px;justify-content:end;' href='https://deepnote.com?utm_source=created-in-deepnote-cell&projectId=a94c9424-2cc1-49ad-8c88-017510010155' target=\"_blank\">\n<img alt='Created in deepnote.com' style='display:inline;max-height:16px;margin:0px;margin-right:7.5px;' src='data:image/svg+xml;base64,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' > </img>\nCreated in <span style='font-weight:600;margin-left:4px;'>Deepnote</span></a>",
   "metadata": {
    "tags": [],
    "created_in_deepnote_cell": true,
    "deepnote_cell_type": "markdown"
   }
  }
 ],
 "nbformat": 4,
 "nbformat_minor": 2,
 "metadata": {
  "orig_nbformat": 2,
  "deepnote": {
   "is_reactive": false
  },
  "deepnote_notebook_id": "232c1d7d-dc4a-4c8b-afa1-4c3cf5a6721b",
  "deepnote_execution_queue": []
 }
}