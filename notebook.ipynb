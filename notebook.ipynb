{
 "cells": [
  {
   "cell_type": "code",
   "metadata": {
    "tags": [],
    "cell_id": "00000-6b7ac49a-a138-4510-8236-adfc0acbfda4",
    "deepnote_to_be_reexecuted": false,
    "source_hash": "ed3257d3",
    "execution_start": 1638962015323,
    "execution_millis": 106,
    "deepnote_output_heights": [
     21.1875,
     21.1875
    ],
    "deepnote_cell_type": "code"
   },
   "source": "#Trending Crypto in CoinmarketCap\nimport pandas as pd\nimport requests,pytz # $ pip install pytz\nfrom datetime import datetime\nimport schedule,time\n\n\ndef test():\n\n    url = \"https://coinmarketcap.com/trending-cryptocurrencies/\"\n\n    try:\n        r = requests.get(url)\n    except (requests.Timeout, requests.ConnectionError, requests.HTTPError) as err:\n        print(\"Error while trying to POST pid data\")\n    df_newcoin = pd.read_html(r.text) # parse all the tables in webpages to a list\n    df=df_newcoin[0].drop(columns=['Last 7 Days', 'Unnamed: 10','Unnamed: 0','7d','30d']) #drop unrequired columns\n\n\n    #Remove dollar signs\n    df['Price']=df['Price'].str.replace('$','',regex=True)\n    df['Market Cap']=df['Market Cap'].str.replace('$','')   \n    df['Volume(24h)']=df['Volume(24h)'].str.replace('$','')\n\n    #Price: Convert from String to Float\n    price_column_num=2\n    for count,price in enumerate(df.Price):\n\n        try:\n            df.iloc[count,price_column_num]=float(price)\n\n        except ValueError:\n            df.iloc[count,price_column_num]='Nan'    #remove these rows instead of replacing with Nan\n\n\n    #Market Cap: Convert to Float.  \n    mkcap_column_num=4\n    for row_num,mkcap_Value in enumerate(df['Market Cap']):\n        if type(mkcap_Value)==str and len(mkcap_Value)>2:\n            mkcap_Value=mkcap_Value.replace(',','')\n            df.iloc[row_num,mkcap_column_num]=float(mkcap_Value)\n\n\n    #Include time column utc/Los_Angeles tz\n    df['date_time']=pd.datetime.now(pytz.timezone(\"America/Los_Angeles\"))\n\n    #Saving new data\n\n    price_data_list=[0,0]\n    \n    while True:\n        #get current price\n        price_data= df['Price'][0]    #first row for this EXAMPLE.Will rewrite to operate all rows\n\n        price_data_list.append(price_data)\n        \n        if len(price_data_list)>10 :\n            break\n\n        \n\n    \n    #Find slope\n    time_diff=1 #seconds\n    slope=(price_data_list[-1]-price_data_list[-2])/time_diff\n    print(price_data_list)\n    return slope\n\ntest()\n\n\n\n",
   "execution_count": 4,
   "outputs": [
    {
     "name": "stdout",
     "text": "[0, 0, 3.351e-06, 3.351e-06, 3.351e-06, 3.351e-06, 3.351e-06, 3.351e-06, 3.351e-06, 3.351e-06, 3.351e-06]\n/shared-libs/python3.7/py-core/lib/python3.7/site-packages/ipykernel_launcher.py:22: FutureWarning: The default value of regex will change from True to False in a future version. In addition, single character regular expressions will*not* be treated as literal strings when regex=True.\n/shared-libs/python3.7/py-core/lib/python3.7/site-packages/ipykernel_launcher.py:23: FutureWarning: The default value of regex will change from True to False in a future version. In addition, single character regular expressions will*not* be treated as literal strings when regex=True.\n/shared-libs/python3.7/py-core/lib/python3.7/site-packages/ipykernel_launcher.py:45: FutureWarning: The pandas.datetime class is deprecated and will be removed from pandas in a future version. Import from datetime module instead.\n",
     "output_type": "stream"
    },
    {
     "output_type": "execute_result",
     "execution_count": 4,
     "data": {
      "text/plain": "0.0"
     },
     "metadata": {}
    }
   ]
  },
  {
   "cell_type": "code",
   "metadata": {
    "tags": [],
    "cell_id": "00001-6754ee6d-c06c-482e-9d29-6d0a4900468d",
    "deepnote_to_be_reexecuted": false,
    "source_hash": "61cbc61b",
    "execution_start": 1638962371482,
    "execution_millis": 37,
    "deepnote_output_heights": [
     59.5625,
     21.1875
    ],
    "deepnote_cell_type": "code"
   },
   "source": "'''''\nNext steps:\n1. Enable the df to load every 30 seconds(later will set to 5 mins) so we can see updates in token prices\n2. Store updated data in a database(psql) or another dataframe\n3. Calculate the plot slopes of tokens.\n4. Using another dataframe as database (placeholder). Later will connect data to psql\n''''' \n\nd = {'col1': [1,1]}\ndff = pd.DataFrame(data=d)\ndff.col1",
   "execution_count": 9,
   "outputs": [
    {
     "output_type": "execute_result",
     "execution_count": 9,
     "data": {
      "text/plain": "0    1\n1    1\nName: col1, dtype: int64"
     },
     "metadata": {}
    }
   ]
  },
  {
   "cell_type": "code",
   "source": "",
   "metadata": {
    "tags": [],
    "cell_id": "00002-a32fedd9-41b5-48dd-a3b0-6f55205a0faa",
    "deepnote_cell_type": "code"
   },
   "outputs": [],
   "execution_count": null
  },
  {
   "cell_type": "markdown",
   "source": "<a style='text-decoration:none;line-height:16px;display:flex;color:#5B5B62;padding:10px;justify-content:end;' href='https://deepnote.com?utm_source=created-in-deepnote-cell&projectId=a94c9424-2cc1-49ad-8c88-017510010155' target=\"_blank\">\n<img alt='Created in deepnote.com' style='display:inline;max-height:16px;margin:0px;margin-right:7.5px;' src='data:image/svg+xml;base64,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' > </img>\nCreated in <span style='font-weight:600;margin-left:4px;'>Deepnote</span></a>",
   "metadata": {
    "tags": [],
    "created_in_deepnote_cell": true,
    "deepnote_cell_type": "markdown"
   }
  }
 ],
 "nbformat": 4,
 "nbformat_minor": 2,
 "metadata": {
  "orig_nbformat": 2,
  "deepnote": {
   "is_reactive": false
  },
  "deepnote_notebook_id": "dcbd0d04-30f9-4cb3-9732-6ea17069c119",
  "deepnote_execution_queue": []
 }
}