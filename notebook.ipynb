{
 "cells": [
  {
   "cell_type": "markdown",
   "source": "# Problem Statement:",
   "metadata": {
    "tags": [],
    "is_collapsed": false,
    "cell_id": "00000-818eacf0-883c-4a47-9e51-7b31c3b80844",
    "deepnote_cell_type": "text-cell-h1"
   }
  },
  {
   "cell_type": "markdown",
   "source": "New crypto coins?? What's the biggest one?? Are we able to detect the most bullish to-be coins in a matter of hours??",
   "metadata": {
    "tags": [],
    "is_collapsed": false,
    "cell_id": "00001-00bc3299-ef2a-4add-8384-f2388fa0c11c",
    "deepnote_cell_type": "text-cell-p"
   }
  },
  {
   "cell_type": "markdown",
   "source": "# Getting Data:",
   "metadata": {
    "tags": [],
    "is_collapsed": false,
    "cell_id": "00001-b546c5ae-4b10-4a15-9d7a-45eec5bce81a",
    "deepnote_cell_type": "text-cell-h1"
   }
  },
  {
   "cell_type": "markdown",
   "source": "## Introduction",
   "metadata": {
    "tags": [],
    "is_collapsed": false,
    "cell_id": "00001-d0cd9327-29be-4006-9c1f-c8338e3fd634",
    "deepnote_cell_type": "text-cell-h2"
   }
  },
  {
   "cell_type": "markdown",
   "source": "The block below goes through a necessary step in data science:getting the data. In this project, we will scrape data from coinmarketcap.com. The uncleaned data will be represented in form of a pandas data frame.",
   "metadata": {
    "tags": [],
    "is_collapsed": false,
    "cell_id": "00005-05faa472-7fa0-49ed-9606-bc19d2b07932",
    "deepnote_cell_type": "text-cell-p"
   }
  },
  {
   "cell_type": "code",
   "metadata": {
    "tags": [],
    "cell_id": "00000-6b7ac49a-a138-4510-8236-adfc0acbfda4",
    "deepnote_to_be_reexecuted": false,
    "source_hash": "d6947d6c",
    "execution_start": 1639989845320,
    "execution_millis": 91,
    "deepnote_output_heights": [
     null,
     21.1875
    ],
    "deepnote_table_state": {
     "pageSize": 25,
     "pageIndex": 0,
     "filters": [],
     "sortBy": []
    },
    "deepnote_table_loading": false,
    "deepnote_cell_type": "code"
   },
   "source": "#Trending Crypto in CoinmarketCap\nimport pandas as pd\nimport requests,pytz # $ pip install pytz\nfrom datetime import datetime\n\n\n\nurl = \"https://coinmarketcap.com/trending-cryptocurrencies/\"\n\ntry:\n    r = requests.get(url)\nexcept (requests.Timeout, requests.ConnectionError, requests.HTTPError) as err:\n    print(\"Error while trying to POST pid data\")\ndf_newcoin = pd.read_html(r.text) # parse all the tables in webpages to a list\ndf=df_newcoin[0].drop(columns=['Last 7 Days', 'Unnamed: 10','Unnamed: 0','7d','30d']) #drop unrequired columns\n\ndf[:3]\n",
   "outputs": [
    {
     "output_type": "execute_result",
     "execution_count": 10,
     "data": {
      "application/vnd.deepnote.dataframe.v3+json": {
       "column_count": 6,
       "row_count": 3,
       "columns": [
        {
         "name": "#",
         "dtype": "int64",
         "stats": {
          "unique_count": 3,
          "nan_count": 0,
          "min": "1",
          "max": "3",
          "histogram": [
           {
            "bin_start": 1,
            "bin_end": 1.2,
            "count": 1
           },
           {
            "bin_start": 1.2,
            "bin_end": 1.4,
            "count": 0
           },
           {
            "bin_start": 1.4,
            "bin_end": 1.6,
            "count": 0
           },
           {
            "bin_start": 1.6,
            "bin_end": 1.8,
            "count": 0
           },
           {
            "bin_start": 1.8,
            "bin_end": 2,
            "count": 0
           },
           {
            "bin_start": 2,
            "bin_end": 2.2,
            "count": 1
           },
           {
            "bin_start": 2.2,
            "bin_end": 2.4000000000000004,
            "count": 0
           },
           {
            "bin_start": 2.4000000000000004,
            "bin_end": 2.6,
            "count": 0
           },
           {
            "bin_start": 2.6,
            "bin_end": 2.8,
            "count": 0
           },
           {
            "bin_start": 2.8,
            "bin_end": 3,
            "count": 1
           }
          ]
         }
        },
        {
         "name": "Name",
         "dtype": "object",
         "stats": {
          "unique_count": 3,
          "nan_count": 0,
          "categories": [
           {
            "name": "MetaPets1METAPETS",
            "count": 1
           },
           {
            "name": "King Shiba2KINGSHIB",
            "count": 1
           },
           {
            "name": "GoldMiner3GM",
            "count": 1
           }
          ]
         }
        },
        {
         "name": "Price",
         "dtype": "object",
         "stats": {
          "unique_count": 3,
          "nan_count": 0,
          "categories": [
           {
            "name": "$0.0...01029",
            "count": 1
           },
           {
            "name": "$0.04184",
            "count": 1
           },
           {
            "name": "$0.00008824",
            "count": 1
           }
          ]
         }
        },
        {
         "name": "24h",
         "dtype": "object",
         "stats": {
          "unique_count": 3,
          "nan_count": 0,
          "categories": [
           {
            "name": "4.58%",
            "count": 1
           },
           {
            "name": "11.81%",
            "count": 1
           },
           {
            "name": "30.20%",
            "count": 1
           }
          ]
         }
        },
        {
         "name": "Market Cap",
         "dtype": "object",
         "stats": {
          "unique_count": 2,
          "nan_count": 0,
          "categories": [
           {
            "name": "--",
            "count": 2
           },
           {
            "name": "$15,198,795",
            "count": 1
           }
          ]
         }
        },
        {
         "name": "Volume(24h)",
         "dtype": "object",
         "stats": {
          "unique_count": 3,
          "nan_count": 0,
          "categories": [
           {
            "name": "$2,685,989",
            "count": 1
           },
           {
            "name": "$3,182,244",
            "count": 1
           },
           {
            "name": "$1,225,910",
            "count": 1
           }
          ]
         }
        },
        {
         "name": "_deepnote_index_column",
         "dtype": "int64"
        }
       ],
       "rows": [
        {
         "#": 1,
         "Name": "MetaPets1METAPETS",
         "Price": "$0.0...01029",
         "24h": "4.58%",
         "Market Cap": "--",
         "Volume(24h)": "$2,685,989",
         "_deepnote_index_column": 0
        },
        {
         "#": 2,
         "Name": "King Shiba2KINGSHIB",
         "Price": "$0.04184",
         "24h": "11.81%",
         "Market Cap": "$15,198,795",
         "Volume(24h)": "$3,182,244",
         "_deepnote_index_column": 1
        },
        {
         "#": 3,
         "Name": "GoldMiner3GM",
         "Price": "$0.00008824",
         "24h": "30.20%",
         "Market Cap": "--",
         "Volume(24h)": "$1,225,910",
         "_deepnote_index_column": 2
        }
       ]
      },
      "text/plain": "   #                 Name         Price     24h   Market Cap Volume(24h)\n0  1    MetaPets1METAPETS  $0.0...01029   4.58%           --  $2,685,989\n1  2  King Shiba2KINGSHIB      $0.04184  11.81%  $15,198,795  $3,182,244\n2  3         GoldMiner3GM   $0.00008824  30.20%           --  $1,225,910",
      "text/html": "<div>\n<style scoped>\n    .dataframe tbody tr th:only-of-type {\n        vertical-align: middle;\n    }\n\n    .dataframe tbody tr th {\n        vertical-align: top;\n    }\n\n    .dataframe thead th {\n        text-align: right;\n    }\n</style>\n<table border=\"1\" class=\"dataframe\">\n  <thead>\n    <tr style=\"text-align: right;\">\n      <th></th>\n      <th>#</th>\n      <th>Name</th>\n      <th>Price</th>\n      <th>24h</th>\n      <th>Market Cap</th>\n      <th>Volume(24h)</th>\n    </tr>\n  </thead>\n  <tbody>\n    <tr>\n      <th>0</th>\n      <td>1</td>\n      <td>MetaPets1METAPETS</td>\n      <td>$0.0...01029</td>\n      <td>4.58%</td>\n      <td>--</td>\n      <td>$2,685,989</td>\n    </tr>\n    <tr>\n      <th>1</th>\n      <td>2</td>\n      <td>King Shiba2KINGSHIB</td>\n      <td>$0.04184</td>\n      <td>11.81%</td>\n      <td>$15,198,795</td>\n      <td>$3,182,244</td>\n    </tr>\n    <tr>\n      <th>2</th>\n      <td>3</td>\n      <td>GoldMiner3GM</td>\n      <td>$0.00008824</td>\n      <td>30.20%</td>\n      <td>--</td>\n      <td>$1,225,910</td>\n    </tr>\n  </tbody>\n</table>\n</div>"
     },
     "metadata": {}
    }
   ],
   "execution_count": null
  },
  {
   "cell_type": "code",
   "source": "",
   "metadata": {
    "cell_id": "00001-a18614ce-a89d-4abf-9bc8-01f6aa56c04f",
    "deepnote_to_be_reexecuted": false,
    "source_hash": "b623e53d",
    "execution_start": 1639987524584,
    "execution_millis": 41,
    "deepnote_cell_type": "visualization"
   },
   "outputs": [],
   "execution_count": null
  },
  {
   "cell_type": "markdown",
   "source": "## Data Cleaning:",
   "metadata": {
    "tags": [],
    "is_collapsed": false,
    "cell_id": "00005-a1408d0f-6264-4498-bd12-51cb6913cd73",
    "deepnote_cell_type": "text-cell-h2"
   }
  },
  {
   "cell_type": "markdown",
   "source": "The block below focuses on cleaning data. Since crypto prices is our data of most interest, we wanna convert the data to float.",
   "metadata": {
    "tags": [],
    "is_collapsed": false,
    "cell_id": "00009-991fd3cf-4c9c-4a4b-ac28-29291a86794d",
    "deepnote_cell_type": "text-cell-p"
   }
  },
  {
   "cell_type": "code",
   "metadata": {
    "tags": [],
    "cell_id": "00001-6754ee6d-c06c-482e-9d29-6d0a4900468d",
    "deepnote_to_be_reexecuted": false,
    "source_hash": "56ab8b52",
    "execution_start": 1639989849614,
    "execution_millis": 131,
    "deepnote_output_heights": [
     null,
     21.1875
    ],
    "deepnote_cell_type": "code"
   },
   "source": "#Import\nfrom datetime import datetime\n\n\n\n#Remove dollar signs\ndf['Price']=df['Price'].str.replace('$','',regex=True)\ndf['Market Cap']=df['Market Cap'].str.replace('$','',regex=True)   \ndf['Volume(24h)']=df['Volume(24h)'].str.replace('$','',regex=True)\n\n#Remove % in 25h column\ndf['24h']=df['24h'].str.replace('%','',regex=True)\n\n#Price: Convert from String to Float\nprice_column_num=2\nfor count,price in enumerate(df.Price):\n\n    try:\n        df.iloc[count,price_column_num]=float(price)\n\n    except ValueError:\n        df.iloc[count,price_column_num]='Nan'    #remove these rows instead of replacing with Nan\n\n\n#Market Cap: Convert to Float.  \nmkcap_column_num=4\nfor row_num,mkcap_Value in enumerate(df['Market Cap']):\n    if type(mkcap_Value)==str and len(mkcap_Value)>2:\n        mkcap_Value=mkcap_Value.replace(',','')\n        df.iloc[row_num,mkcap_column_num]=float(mkcap_Value)\n\n#24h Column: Convert to Float.  \nhour_column_num=3\nfor row_num,hour_Value in enumerate(df['24h']):\n    if type(hour_Value)==str:\n        df.iloc[row_num,hour_column_num]=float(hour_Value)\n\n\n#Include time column utc/Los_Angeles tz\ndf['date_time']=datetime.now(pytz.timezone(\"America/Los_Angeles\"))\n\n   \ndf[:3]\n",
   "outputs": [
    {
     "output_type": "execute_result",
     "execution_count": 11,
     "data": {
      "application/vnd.deepnote.dataframe.v3+json": {
       "column_count": 7,
       "row_count": 3,
       "columns": [
        {
         "name": "#",
         "dtype": "int64",
         "stats": {
          "unique_count": 3,
          "nan_count": 0,
          "min": "1",
          "max": "3",
          "histogram": [
           {
            "bin_start": 1,
            "bin_end": 1.2,
            "count": 1
           },
           {
            "bin_start": 1.2,
            "bin_end": 1.4,
            "count": 0
           },
           {
            "bin_start": 1.4,
            "bin_end": 1.6,
            "count": 0
           },
           {
            "bin_start": 1.6,
            "bin_end": 1.8,
            "count": 0
           },
           {
            "bin_start": 1.8,
            "bin_end": 2,
            "count": 0
           },
           {
            "bin_start": 2,
            "bin_end": 2.2,
            "count": 1
           },
           {
            "bin_start": 2.2,
            "bin_end": 2.4000000000000004,
            "count": 0
           },
           {
            "bin_start": 2.4000000000000004,
            "bin_end": 2.6,
            "count": 0
           },
           {
            "bin_start": 2.6,
            "bin_end": 2.8,
            "count": 0
           },
           {
            "bin_start": 2.8,
            "bin_end": 3,
            "count": 1
           }
          ]
         }
        },
        {
         "name": "Name",
         "dtype": "object",
         "stats": {
          "unique_count": 3,
          "nan_count": 0,
          "categories": [
           {
            "name": "MetaPets1METAPETS",
            "count": 1
           },
           {
            "name": "King Shiba2KINGSHIB",
            "count": 1
           },
           {
            "name": "GoldMiner3GM",
            "count": 1
           }
          ]
         }
        },
        {
         "name": "Price",
         "dtype": "object",
         "stats": {
          "unique_count": 3,
          "nan_count": 0,
          "categories": [
           {
            "name": "Nan",
            "count": 1
           },
           {
            "name": "0.04184",
            "count": 1
           },
           {
            "name": "8.824e-05",
            "count": 1
           }
          ]
         }
        },
        {
         "name": "24h",
         "dtype": "object",
         "stats": {
          "unique_count": 3,
          "nan_count": 0,
          "categories": [
           {
            "name": "4.58",
            "count": 1
           },
           {
            "name": "11.81",
            "count": 1
           },
           {
            "name": "30.2",
            "count": 1
           }
          ]
         }
        },
        {
         "name": "Market Cap",
         "dtype": "object",
         "stats": {
          "unique_count": 2,
          "nan_count": 0,
          "categories": [
           {
            "name": "--",
            "count": 2
           },
           {
            "name": "15198795.0",
            "count": 1
           }
          ]
         }
        },
        {
         "name": "Volume(24h)",
         "dtype": "object",
         "stats": {
          "unique_count": 3,
          "nan_count": 0,
          "categories": [
           {
            "name": "2,685,989",
            "count": 1
           },
           {
            "name": "3,182,244",
            "count": 1
           },
           {
            "name": "1,225,910",
            "count": 1
           }
          ]
         }
        },
        {
         "name": "date_time",
         "dtype": "datetime64[ns, America/Los_Angeles]",
         "stats": {
          "unique_count": 1,
          "nan_count": 0,
          "min": "2021-12-20 00:44:09.660271-08:00",
          "max": "2021-12-20 00:44:09.660271-08:00",
          "histogram": null
         }
        },
        {
         "name": "_deepnote_index_column",
         "dtype": "int64"
        }
       ],
       "rows": [
        {
         "#": 1,
         "Name": "MetaPets1METAPETS",
         "Price": "Nan",
         "24h": "4.58",
         "Market Cap": "--",
         "Volume(24h)": "2,685,989",
         "date_time": "2021-12-20T00:44:09.660271",
         "_deepnote_index_column": 0
        },
        {
         "#": 2,
         "Name": "King Shiba2KINGSHIB",
         "Price": "0.04184",
         "24h": "11.81",
         "Market Cap": "15198795.0",
         "Volume(24h)": "3,182,244",
         "date_time": "2021-12-20T00:44:09.660271",
         "_deepnote_index_column": 1
        },
        {
         "#": 3,
         "Name": "GoldMiner3GM",
         "Price": "8.824e-05",
         "24h": "30.2",
         "Market Cap": "--",
         "Volume(24h)": "1,225,910",
         "date_time": "2021-12-20T00:44:09.660271",
         "_deepnote_index_column": 2
        }
       ]
      },
      "text/plain": "   #                 Name     Price    24h  Market Cap Volume(24h)  \\\n0  1    MetaPets1METAPETS       Nan   4.58          --   2,685,989   \n1  2  King Shiba2KINGSHIB   0.04184  11.81  15198795.0   3,182,244   \n2  3         GoldMiner3GM  0.000088   30.2          --   1,225,910   \n\n                         date_time  \n0 2021-12-20 00:44:09.660271-08:00  \n1 2021-12-20 00:44:09.660271-08:00  \n2 2021-12-20 00:44:09.660271-08:00  ",
      "text/html": "<div>\n<style scoped>\n    .dataframe tbody tr th:only-of-type {\n        vertical-align: middle;\n    }\n\n    .dataframe tbody tr th {\n        vertical-align: top;\n    }\n\n    .dataframe thead th {\n        text-align: right;\n    }\n</style>\n<table border=\"1\" class=\"dataframe\">\n  <thead>\n    <tr style=\"text-align: right;\">\n      <th></th>\n      <th>#</th>\n      <th>Name</th>\n      <th>Price</th>\n      <th>24h</th>\n      <th>Market Cap</th>\n      <th>Volume(24h)</th>\n      <th>date_time</th>\n    </tr>\n  </thead>\n  <tbody>\n    <tr>\n      <th>0</th>\n      <td>1</td>\n      <td>MetaPets1METAPETS</td>\n      <td>Nan</td>\n      <td>4.58</td>\n      <td>--</td>\n      <td>2,685,989</td>\n      <td>2021-12-20 00:44:09.660271-08:00</td>\n    </tr>\n    <tr>\n      <th>1</th>\n      <td>2</td>\n      <td>King Shiba2KINGSHIB</td>\n      <td>0.04184</td>\n      <td>11.81</td>\n      <td>15198795.0</td>\n      <td>3,182,244</td>\n      <td>2021-12-20 00:44:09.660271-08:00</td>\n    </tr>\n    <tr>\n      <th>2</th>\n      <td>3</td>\n      <td>GoldMiner3GM</td>\n      <td>0.000088</td>\n      <td>30.2</td>\n      <td>--</td>\n      <td>1,225,910</td>\n      <td>2021-12-20 00:44:09.660271-08:00</td>\n    </tr>\n  </tbody>\n</table>\n</div>"
     },
     "metadata": {}
    }
   ],
   "execution_count": null
  },
  {
   "cell_type": "code",
   "source": "",
   "metadata": {
    "tags": [],
    "cell_id": "00010-a6a34dc6-eaa6-4ee8-8f66-6f0191042dff",
    "deepnote_cell_type": "code"
   },
   "outputs": [],
   "execution_count": null
  },
  {
   "cell_type": "markdown",
   "source": "<a style='text-decoration:none;line-height:16px;display:flex;color:#5B5B62;padding:10px;justify-content:end;' href='https://deepnote.com?utm_source=created-in-deepnote-cell&projectId=a94c9424-2cc1-49ad-8c88-017510010155' target=\"_blank\">\n<img alt='Created in deepnote.com' style='display:inline;max-height:16px;margin:0px;margin-right:7.5px;' src='data:image/svg+xml;base64,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' > </img>\nCreated in <span style='font-weight:600;margin-left:4px;'>Deepnote</span></a>",
   "metadata": {
    "tags": [],
    "created_in_deepnote_cell": true,
    "deepnote_cell_type": "markdown"
   }
  }
 ],
 "nbformat": 4,
 "nbformat_minor": 2,
 "metadata": {
  "orig_nbformat": 2,
  "deepnote": {
   "is_reactive": false
  },
  "deepnote_notebook_id": "dcbd0d04-30f9-4cb3-9732-6ea17069c119",
  "deepnote_execution_queue": []
 }
}