{
 "cells": [
  {
   "cell_type": "code",
   "metadata": {
    "tags": [],
    "cell_id": "00000-6b7ac49a-a138-4510-8236-adfc0acbfda4",
    "deepnote_to_be_reexecuted": false,
    "source_hash": "2f3e114e",
    "execution_start": 1638614767737,
    "execution_millis": 174,
    "deepnote_cell_type": "code"
   },
   "source": "#Trending Crypto in CoinmarketCap\nimport pandas as pd\nimport requests\n\nurl = \"https://coinmarketcap.com/trending-cryptocurrencies/\"\n\nr = requests.get(url)\ndf_newcoin = pd.read_html(r.text) # parse all the tables in webpages to a list\ndf=df_newcoin[0].drop(columns=['Last 7 Days', 'Unnamed: 10','Unnamed: 0']) #drop unrequired columns\n\ndf[:5]",
   "execution_count": 2,
   "outputs": [
    {
     "output_type": "execute_result",
     "execution_count": 2,
     "data": {
      "application/vnd.deepnote.dataframe.v2+json": {
       "row_count": 5,
       "column_count": 8,
       "columns": [
        {
         "name": "#",
         "dtype": "int64",
         "stats": {
          "unique_count": 5,
          "nan_count": 0,
          "min": "1",
          "max": "5",
          "histogram": [
           {
            "bin_start": 1,
            "bin_end": 1.4,
            "count": 1
           },
           {
            "bin_start": 1.4,
            "bin_end": 1.8,
            "count": 0
           },
           {
            "bin_start": 1.8,
            "bin_end": 2.2,
            "count": 1
           },
           {
            "bin_start": 2.2,
            "bin_end": 2.6,
            "count": 0
           },
           {
            "bin_start": 2.6,
            "bin_end": 3,
            "count": 0
           },
           {
            "bin_start": 3,
            "bin_end": 3.4000000000000004,
            "count": 1
           },
           {
            "bin_start": 3.4000000000000004,
            "bin_end": 3.8000000000000003,
            "count": 0
           },
           {
            "bin_start": 3.8000000000000003,
            "bin_end": 4.2,
            "count": 1
           },
           {
            "bin_start": 4.2,
            "bin_end": 4.6,
            "count": 0
           },
           {
            "bin_start": 4.6,
            "bin_end": 5,
            "count": 1
           }
          ]
         }
        },
        {
         "name": "Name",
         "dtype": "object",
         "stats": {
          "unique_count": 5,
          "nan_count": 0,
          "categories": [
           {
            "name": "Doge Dash1DOGEDASH",
            "count": 1
           },
           {
            "name": "SHIBORG INU2SHIBORG",
            "count": 1
           },
           {
            "name": "3 others",
            "count": 3
           }
          ]
         }
        },
        {
         "name": "Price",
         "dtype": "object",
         "stats": {
          "unique_count": 5,
          "nan_count": 0,
          "categories": [
           {
            "name": "$0.001249",
            "count": 1
           },
           {
            "name": "$0.000000004375",
            "count": 1
           },
           {
            "name": "3 others",
            "count": 3
           }
          ]
         }
        },
        {
         "name": "24h",
         "dtype": "object",
         "stats": {
          "unique_count": 5,
          "nan_count": 0,
          "categories": [
           {
            "name": "21.42%",
            "count": 1
           },
           {
            "name": "35.98%",
            "count": 1
           },
           {
            "name": "3 others",
            "count": 3
           }
          ]
         }
        },
        {
         "name": "7d",
         "dtype": "object",
         "stats": {
          "unique_count": 5,
          "nan_count": 0,
          "categories": [
           {
            "name": "17.76%",
            "count": 1
           },
           {
            "name": "44.10%",
            "count": 1
           },
           {
            "name": "3 others",
            "count": 3
           }
          ]
         }
        },
        {
         "name": "30d",
         "dtype": "object",
         "stats": {
          "unique_count": 5,
          "nan_count": 0,
          "categories": [
           {
            "name": "70.48%",
            "count": 1
           },
           {
            "name": "83.31%",
            "count": 1
           },
           {
            "name": "3 others",
            "count": 3
           }
          ]
         }
        },
        {
         "name": "Market Cap",
         "dtype": "object",
         "stats": {
          "unique_count": 2,
          "nan_count": 0,
          "categories": [
           {
            "name": "--",
            "count": 4
           },
           {
            "name": "$67,489,219",
            "count": 1
           }
          ]
         }
        },
        {
         "name": "Volume(24h)",
         "dtype": "object",
         "stats": {
          "unique_count": 5,
          "nan_count": 0,
          "categories": [
           {
            "name": "$16,336,824",
            "count": 1
           },
           {
            "name": "$2,677,624",
            "count": 1
           },
           {
            "name": "3 others",
            "count": 3
           }
          ]
         }
        },
        {
         "name": "_deepnote_index_column",
         "dtype": "int64"
        }
       ],
       "rows_top": [
        {
         "#": 1,
         "Name": "Doge Dash1DOGEDASH",
         "Price": "$0.001249",
         "24h": "21.42%",
         "7d": "17.76%",
         "30d": "70.48%",
         "Market Cap": "$67,489,219",
         "Volume(24h)": "$16,336,824",
         "_deepnote_index_column": 0
        },
        {
         "#": 2,
         "Name": "SHIBORG INU2SHIBORG",
         "Price": "$0.000000004375",
         "24h": "35.98%",
         "7d": "44.10%",
         "30d": "83.31%",
         "Market Cap": "--",
         "Volume(24h)": "$2,677,624",
         "_deepnote_index_column": 1
        },
        {
         "#": 3,
         "Name": "Rocket3ROCKET",
         "Price": "$0.02905",
         "24h": "10.58%",
         "7d": "41.73%",
         "30d": "41.73%",
         "Market Cap": "--",
         "Volume(24h)": "$3,037,378",
         "_deepnote_index_column": 2
        },
        {
         "#": 4,
         "Name": "ShibElon4SHIBELON",
         "Price": "$0.000004857",
         "24h": "19.10%",
         "7d": "26.31%",
         "30d": "14.75%",
         "Market Cap": "--",
         "Volume(24h)": "$945,702",
         "_deepnote_index_column": 3
        },
        {
         "#": 5,
         "Name": "PORNROCKET5PORNROCKET",
         "Price": "$0.0000001414",
         "24h": "4.02%",
         "7d": "1.55%",
         "30d": "1.99%",
         "Market Cap": "--",
         "Volume(24h)": "$1,052,434",
         "_deepnote_index_column": 4
        }
       ],
       "rows_bottom": null
      },
      "text/plain": "   #                   Name            Price     24h      7d     30d  \\\n0  1     Doge Dash1DOGEDASH        $0.001249  21.42%  17.76%  70.48%   \n1  2    SHIBORG INU2SHIBORG  $0.000000004375  35.98%  44.10%  83.31%   \n2  3          Rocket3ROCKET         $0.02905  10.58%  41.73%  41.73%   \n3  4      ShibElon4SHIBELON     $0.000004857  19.10%  26.31%  14.75%   \n4  5  PORNROCKET5PORNROCKET    $0.0000001414   4.02%   1.55%   1.99%   \n\n    Market Cap  Volume(24h)  \n0  $67,489,219  $16,336,824  \n1           --   $2,677,624  \n2           --   $3,037,378  \n3           --     $945,702  \n4           --   $1,052,434  ",
      "text/html": "<div>\n<style scoped>\n    .dataframe tbody tr th:only-of-type {\n        vertical-align: middle;\n    }\n\n    .dataframe tbody tr th {\n        vertical-align: top;\n    }\n\n    .dataframe thead th {\n        text-align: right;\n    }\n</style>\n<table border=\"1\" class=\"dataframe\">\n  <thead>\n    <tr style=\"text-align: right;\">\n      <th></th>\n      <th>#</th>\n      <th>Name</th>\n      <th>Price</th>\n      <th>24h</th>\n      <th>7d</th>\n      <th>30d</th>\n      <th>Market Cap</th>\n      <th>Volume(24h)</th>\n    </tr>\n  </thead>\n  <tbody>\n    <tr>\n      <th>0</th>\n      <td>1</td>\n      <td>Doge Dash1DOGEDASH</td>\n      <td>$0.001249</td>\n      <td>21.42%</td>\n      <td>17.76%</td>\n      <td>70.48%</td>\n      <td>$67,489,219</td>\n      <td>$16,336,824</td>\n    </tr>\n    <tr>\n      <th>1</th>\n      <td>2</td>\n      <td>SHIBORG INU2SHIBORG</td>\n      <td>$0.000000004375</td>\n      <td>35.98%</td>\n      <td>44.10%</td>\n      <td>83.31%</td>\n      <td>--</td>\n      <td>$2,677,624</td>\n    </tr>\n    <tr>\n      <th>2</th>\n      <td>3</td>\n      <td>Rocket3ROCKET</td>\n      <td>$0.02905</td>\n      <td>10.58%</td>\n      <td>41.73%</td>\n      <td>41.73%</td>\n      <td>--</td>\n      <td>$3,037,378</td>\n    </tr>\n    <tr>\n      <th>3</th>\n      <td>4</td>\n      <td>ShibElon4SHIBELON</td>\n      <td>$0.000004857</td>\n      <td>19.10%</td>\n      <td>26.31%</td>\n      <td>14.75%</td>\n      <td>--</td>\n      <td>$945,702</td>\n    </tr>\n    <tr>\n      <th>4</th>\n      <td>5</td>\n      <td>PORNROCKET5PORNROCKET</td>\n      <td>$0.0000001414</td>\n      <td>4.02%</td>\n      <td>1.55%</td>\n      <td>1.99%</td>\n      <td>--</td>\n      <td>$1,052,434</td>\n    </tr>\n  </tbody>\n</table>\n</div>"
     },
     "metadata": {}
    }
   ]
  },
  {
   "cell_type": "code",
   "source": "\n#df[df['Price'].apply(lambda x: str(x).isdigit())]\ndf['Price']=df['Price'].str.replace('$','')\ndf['Price'][0]",
   "metadata": {
    "tags": [],
    "cell_id": "00002-52f9bd3d-d7a6-4917-b0cc-53100b47d336",
    "deepnote_to_be_reexecuted": false,
    "source_hash": "b1f5bed7",
    "execution_start": 1638615774231,
    "execution_millis": 23,
    "deepnote_output_heights": [
     null,
     21.1875
    ],
    "deepnote_cell_type": "code"
   },
   "outputs": [
    {
     "name": "stderr",
     "text": "/shared-libs/python3.7/py-core/lib/python3.7/site-packages/ipykernel_launcher.py:2: FutureWarning: The default value of regex will change from True to False in a future version. In addition, single character regular expressions will*not* be treated as literal strings when regex=True.\n  \n",
     "output_type": "stream"
    },
    {
     "output_type": "execute_result",
     "execution_count": 15,
     "data": {
      "text/plain": "'0.001249'"
     },
     "metadata": {}
    }
   ],
   "execution_count": 15
  },
  {
   "cell_type": "code",
   "source": "#Price: Convert from String to Float\nprices=[]\nfor price in df['Price']:\n    try:\n        prices.append(float(price))\n    except ValueError:\n        \n        prices.append('Nan')",
   "metadata": {
    "tags": [],
    "cell_id": "00002-70b63c67-724e-4c6f-b9b5-20dd2b809c73",
    "deepnote_to_be_reexecuted": false,
    "source_hash": "fa45dcd7",
    "execution_start": 1638615835621,
    "execution_millis": 1,
    "deepnote_cell_type": "code"
   },
   "outputs": [],
   "execution_count": 16
  },
  {
   "cell_type": "code",
   "source": "",
   "metadata": {
    "tags": [],
    "cell_id": "00003-0447cb6d-a10c-4272-b50b-139caa23299d",
    "deepnote_cell_type": "code"
   },
   "outputs": [],
   "execution_count": null
  },
  {
   "cell_type": "markdown",
   "source": "<a style='text-decoration:none;line-height:16px;display:flex;color:#5B5B62;padding:10px;justify-content:end;' href='https://deepnote.com?utm_source=created-in-deepnote-cell&projectId=a94c9424-2cc1-49ad-8c88-017510010155' target=\"_blank\">\n<img alt='Created in deepnote.com' style='display:inline;max-height:16px;margin:0px;margin-right:7.5px;' src='data:image/svg+xml;base64,PD94bWwgdmVyc2lvbj0iMS4wIiBlbmNvZGluZz0iVVRGLTgiPz4KPHN2ZyB3aWR0aD0iODBweCIgaGVpZ2h0PSI4MHB4IiB2aWV3Qm94PSIwIDAgODAgODAiIHZlcnNpb249IjEuMSIgeG1sbnM9Imh0dHA6Ly93d3cudzMub3JnLzIwMDAvc3ZnIiB4bWxuczp4bGluaz0iaHR0cDovL3d3dy53My5vcmcvMTk5OS94bGluayI+CiAgICA8IS0tIEdlbmVyYXRvcjogU2tldGNoIDU0LjEgKDc2NDkwKSAtIGh0dHBzOi8vc2tldGNoYXBwLmNvbSAtLT4KICAgIDx0aXRsZT5Hcm91cCAzPC90aXRsZT4KICAgIDxkZXNjPkNyZWF0ZWQgd2l0aCBTa2V0Y2guPC9kZXNjPgogICAgPGcgaWQ9IkxhbmRpbmciIHN0cm9rZT0ibm9uZSIgc3Ryb2tlLXdpZHRoPSIxIiBmaWxsPSJub25lIiBmaWxsLXJ1bGU9ImV2ZW5vZGQiPgogICAgICAgIDxnIGlkPSJBcnRib2FyZCIgdHJhbnNmb3JtPSJ0cmFuc2xhdGUoLTEyMzUuMDAwMDAwLCAtNzkuMDAwMDAwKSI+CiAgICAgICAgICAgIDxnIGlkPSJHcm91cC0zIiB0cmFuc2Zvcm09InRyYW5zbGF0ZSgxMjM1LjAwMDAwMCwgNzkuMDAwMDAwKSI+CiAgICAgICAgICAgICAgICA8cG9seWdvbiBpZD0iUGF0aC0yMCIgZmlsbD0iIzAyNjVCNCIgcG9pbnRzPSIyLjM3NjIzNzYyIDgwIDM4LjA0NzY2NjcgODAgNTcuODIxNzgyMiA3My44MDU3NTkyIDU3LjgyMTc4MjIgMzIuNzU5MjczOSAzOS4xNDAyMjc4IDMxLjY4MzE2ODMiPjwvcG9seWdvbj4KICAgICAgICAgICAgICAgIDxwYXRoIGQ9Ik0zNS4wMDc3MTgsODAgQzQyLjkwNjIwMDcsNzYuNDU0OTM1OCA0Ny41NjQ5MTY3LDcxLjU0MjI2NzEgNDguOTgzODY2LDY1LjI2MTk5MzkgQzUxLjExMjI4OTksNTUuODQxNTg0MiA0MS42NzcxNzk1LDQ5LjIxMjIyODQgMjUuNjIzOTg0Niw0OS4yMTIyMjg0IEMyNS40ODQ5Mjg5LDQ5LjEyNjg0NDggMjkuODI2MTI5Niw0My4yODM4MjQ4IDM4LjY0NzU4NjksMzEuNjgzMTY4MyBMNzIuODcxMjg3MSwzMi41NTQ0MjUgTDY1LjI4MDk3Myw2Ny42NzYzNDIxIEw1MS4xMTIyODk5LDc3LjM3NjE0NCBMMzUuMDA3NzE4LDgwIFoiIGlkPSJQYXRoLTIyIiBmaWxsPSIjMDAyODY4Ij48L3BhdGg+CiAgICAgICAgICAgICAgICA8cGF0aCBkPSJNMCwzNy43MzA0NDA1IEwyNy4xMTQ1MzcsMC4yNTcxMTE0MzYgQzYyLjM3MTUxMjMsLTEuOTkwNzE3MDEgODAsMTAuNTAwMzkyNyA4MCwzNy43MzA0NDA1IEM4MCw2NC45NjA0ODgyIDY0Ljc3NjUwMzgsNzkuMDUwMzQxNCAzNC4zMjk1MTEzLDgwIEM0Ny4wNTUzNDg5LDc3LjU2NzA4MDggNTMuNDE4MjY3Nyw3MC4zMTM2MTAzIDUzLjQxODI2NzcsNTguMjM5NTg4NSBDNTMuNDE4MjY3Nyw0MC4xMjg1NTU3IDM2LjMwMzk1NDQsMzcuNzMwNDQwNSAyNS4yMjc0MTcsMzcuNzMwNDQwNSBDMTcuODQzMDU4NiwzNy43MzA0NDA1IDkuNDMzOTE5NjYsMzcuNzMwNDQwNSAwLDM3LjczMDQ0MDUgWiIgaWQ9IlBhdGgtMTkiIGZpbGw9IiMzNzkzRUYiPjwvcGF0aD4KICAgICAgICAgICAgPC9nPgogICAgICAgIDwvZz4KICAgIDwvZz4KPC9zdmc+' > </img>\nCreated in <span style='font-weight:600;margin-left:4px;'>Deepnote</span></a>",
   "metadata": {
    "tags": [],
    "created_in_deepnote_cell": true,
    "deepnote_cell_type": "markdown"
   }
  }
 ],
 "nbformat": 4,
 "nbformat_minor": 2,
 "metadata": {
  "orig_nbformat": 2,
  "deepnote": {
   "is_reactive": false
  },
  "deepnote_notebook_id": "dcbd0d04-30f9-4cb3-9732-6ea17069c119",
  "deepnote_execution_queue": []
 }
}