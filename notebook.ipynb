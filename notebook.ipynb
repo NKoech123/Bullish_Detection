{
 "cells": [
  {
   "cell_type": "code",
   "metadata": {
    "tags": [],
    "cell_id": "00000-6b7ac49a-a138-4510-8236-adfc0acbfda4",
    "deepnote_to_be_reexecuted": false,
    "source_hash": "80dfd9c6",
    "execution_start": 1638779198927,
    "execution_millis": 393,
    "deepnote_output_heights": [
     null,
     21.1875
    ],
    "deepnote_cell_type": "code"
   },
   "source": "#Trending Crypto in CoinmarketCap\nimport pandas as pd\nimport requests\n\nurl = \"https://coinmarketcap.com/trending-cryptocurrencies/\"\n\nr = requests.get(url)\ndf_newcoin = pd.read_html(r.text) # parse all the tables in webpages to a list\ndf=df_newcoin[0].drop(columns=['Last 7 Days', 'Unnamed: 10','Unnamed: 0','7d','30d']) #drop unrequired columns\n\n\n#Remove dollar signs\ndf['Price']=df['Price'].str.replace('$','')\ndf['Market Cap']=df['Market Cap'].str.replace('$','')   \ndf['Volume(24h)']=df['Volume(24h)'].str.replace('$','')\n\n#Price: Convert from String to Float\nprice_column_num=2\nfor count,price in enumerate(df.Price):\n\n    try:\n        df.iloc[count,price_column_num]=float(price)\n\n    except ValueError:\n        df.iloc[count,price_column_num]='Nan'\n\n\n#Market Cap: Convert to Float.  \nmkcap_column_num=4\nfor row_num,mkcap_Value in enumerate(df['Market Cap']):\n    if type(mkcap_Value)==str and len(mkcap_Value)>2:\n        mkcap_Value=mkcap_Value.replace(',','')\n        df.iloc[row_num,mkcap_column_num]=float(mkcap_Value)\n\n\n#Imports\nfrom time import time,sleep\nimport sched,time\n\nstores=['Nan']\n\ndef storage():\n    k=0\n    while k<5:\n        \n        price=df['Price'][0]\n        if price!=stores[-1]:\n           stores.append(price)\n        k+=1\n        \n    return stores\n\ndf\n",
   "execution_count": 3,
   "outputs": [
    {
     "name": "stderr",
     "text": "/shared-libs/python3.7/py-core/lib/python3.7/site-packages/ipykernel_launcher.py:13: FutureWarning: The default value of regex will change from True to False in a future version. In addition, single character regular expressions will*not* be treated as literal strings when regex=True.\n  del sys.path[0]\n/shared-libs/python3.7/py-core/lib/python3.7/site-packages/ipykernel_launcher.py:14: FutureWarning: The default value of regex will change from True to False in a future version. In addition, single character regular expressions will*not* be treated as literal strings when regex=True.\n  \n/shared-libs/python3.7/py-core/lib/python3.7/site-packages/ipykernel_launcher.py:15: FutureWarning: The default value of regex will change from True to False in a future version. In addition, single character regular expressions will*not* be treated as literal strings when regex=True.\n  from ipykernel import kernelapp as app\n",
     "output_type": "stream"
    },
    {
     "output_type": "execute_result",
     "execution_count": 3,
     "data": {
      "application/vnd.deepnote.dataframe.v2+json": {
       "row_count": 30,
       "column_count": 6,
       "columns": [
        {
         "name": "#",
         "dtype": "int64",
         "stats": {
          "unique_count": 30,
          "nan_count": 0,
          "min": "1",
          "max": "30",
          "histogram": [
           {
            "bin_start": 1,
            "bin_end": 3.9,
            "count": 3
           },
           {
            "bin_start": 3.9,
            "bin_end": 6.8,
            "count": 3
           },
           {
            "bin_start": 6.8,
            "bin_end": 9.7,
            "count": 3
           },
           {
            "bin_start": 9.7,
            "bin_end": 12.6,
            "count": 3
           },
           {
            "bin_start": 12.6,
            "bin_end": 15.5,
            "count": 3
           },
           {
            "bin_start": 15.5,
            "bin_end": 18.4,
            "count": 3
           },
           {
            "bin_start": 18.4,
            "bin_end": 21.3,
            "count": 3
           },
           {
            "bin_start": 21.3,
            "bin_end": 24.2,
            "count": 3
           },
           {
            "bin_start": 24.2,
            "bin_end": 27.099999999999998,
            "count": 3
           },
           {
            "bin_start": 27.099999999999998,
            "bin_end": 30,
            "count": 3
           }
          ]
         }
        },
        {
         "name": "Name",
         "dtype": "object",
         "stats": {
          "unique_count": 30,
          "nan_count": 0,
          "categories": [
           {
            "name": "1NFT11NFT",
            "count": 1
           },
           {
            "name": "ShibElon2SHIBELON",
            "count": 1
           },
           {
            "name": "28 others",
            "count": 28
           }
          ]
         }
        },
        {
         "name": "Price",
         "dtype": "object",
         "stats": {
          "unique_count": 25,
          "nan_count": 0,
          "categories": [
           {
            "name": "Nan",
            "count": 6
           },
           {
            "name": "1.21e-09",
            "count": 1
           },
           {
            "name": "23 others",
            "count": 23
           }
          ]
         }
        },
        {
         "name": "24h",
         "dtype": "object",
         "stats": {
          "unique_count": 30,
          "nan_count": 0,
          "categories": [
           {
            "name": "54.05%",
            "count": 1
           },
           {
            "name": "1.94%",
            "count": 1
           },
           {
            "name": "28 others",
            "count": 28
           }
          ]
         }
        },
        {
         "name": "Market Cap",
         "dtype": "object",
         "stats": {
          "unique_count": 20,
          "nan_count": 0,
          "categories": [
           {
            "name": "--",
            "count": 11
           },
           {
            "name": "908579207931.0",
            "count": 1
           },
           {
            "name": "18 others",
            "count": 18
           }
          ]
         }
        },
        {
         "name": "Volume(24h)",
         "dtype": "object",
         "stats": {
          "unique_count": 30,
          "nan_count": 0,
          "categories": [
           {
            "name": "10,374,664",
            "count": 1
           },
           {
            "name": "1,361,117",
            "count": 1
           },
           {
            "name": "28 others",
            "count": 28
           }
          ]
         }
        },
        {
         "name": "_deepnote_index_column",
         "dtype": "int64"
        }
       ],
       "rows_top": [
        {
         "#": 1,
         "Name": "1NFT11NFT",
         "Price": "1.21e-09",
         "24h": "54.05%",
         "Market Cap": "--",
         "Volume(24h)": "10,374,664",
         "_deepnote_index_column": 0
        },
        {
         "#": 2,
         "Name": "ShibElon2SHIBELON",
         "Price": "5.211e-06",
         "24h": "1.94%",
         "Market Cap": "--",
         "Volume(24h)": "1,361,117",
         "_deepnote_index_column": 1
        },
        {
         "#": 3,
         "Name": "PORNROCKET3PORNROCKET",
         "Price": "1.385e-07",
         "24h": "2.00%",
         "Market Cap": "--",
         "Volume(24h)": "1,440,486",
         "_deepnote_index_column": 2
        },
        {
         "#": 4,
         "Name": "Bitcoin4BTC",
         "Price": "Nan",
         "24h": "2.69%",
         "Market Cap": "908579207931.0",
         "Volume(24h)": "34,619,158,269",
         "_deepnote_index_column": 3
        },
        {
         "#": 5,
         "Name": "Ariva5ARV",
         "Price": "0.0004696",
         "24h": "9.42%",
         "Market Cap": "23965983.0",
         "Volume(24h)": "19,379,437",
         "_deepnote_index_column": 4
        },
        {
         "#": 6,
         "Name": "GAMINGDOGE6GAMINGDOGE",
         "Price": "Nan",
         "24h": "3.55%",
         "Market Cap": "--",
         "Volume(24h)": "1,138,783",
         "_deepnote_index_column": 5
        },
        {
         "#": 7,
         "Name": "SHIBA INU7SHIB",
         "Price": "3.432e-05",
         "24h": "7.91%",
         "Market Cap": "18839613566.0",
         "Volume(24h)": "2,085,570,352",
         "_deepnote_index_column": 6
        },
        {
         "#": 8,
         "Name": "BNB Hero Token8BNBH",
         "Price": "3.08",
         "24h": "18.33%",
         "Market Cap": "--",
         "Volume(24h)": "27,559,690",
         "_deepnote_index_column": 7
        },
        {
         "#": 9,
         "Name": "Retromoon9RETRO",
         "Price": "0.004578",
         "24h": "23.25%",
         "Market Cap": "--",
         "Volume(24h)": "1,233,460",
         "_deepnote_index_column": 8
        },
        {
         "#": 10,
         "Name": "MicroPets10PETS",
         "Price": "3.43e-06",
         "24h": "4.74%",
         "Market Cap": "17175741.0",
         "Volume(24h)": "1,001,954",
         "_deepnote_index_column": 9
        },
        {
         "#": 11,
         "Name": "The Sandbox11SAND",
         "Price": "5.02",
         "24h": "12.97%",
         "Market Cap": "4584336884.0",
         "Volume(24h)": "2,024,552,281",
         "_deepnote_index_column": 10
        },
        {
         "#": 12,
         "Name": "Decentraland12MANA",
         "Price": "3.46",
         "24h": "9.99%",
         "Market Cap": "6320900006.0",
         "Volume(24h)": "1,535,497,239",
         "_deepnote_index_column": 11
        },
        {
         "#": 13,
         "Name": "Ethereum13ETH",
         "Price": "Nan",
         "24h": "4.45%",
         "Market Cap": "476320783167.0",
         "Volume(24h)": "22,147,433,438",
         "_deepnote_index_column": 12
        },
        {
         "#": 14,
         "Name": "Binance Coin14BNB",
         "Price": "553.71",
         "24h": "4.07%",
         "Market Cap": "92360043679.0",
         "Volume(24h)": "2,704,916,789",
         "_deepnote_index_column": 13
        },
        {
         "#": 15,
         "Name": "Greed15GREED",
         "Price": "0.01012",
         "24h": "5.67%",
         "Market Cap": "--",
         "Volume(24h)": "4,419,985",
         "_deepnote_index_column": 14
        },
        {
         "#": 16,
         "Name": "MetaPets16METAPETS",
         "Price": "Nan",
         "24h": "18.29%",
         "Market Cap": "--",
         "Volume(24h)": "546,092",
         "_deepnote_index_column": 15
        },
        {
         "#": 17,
         "Name": "Crypto.com Coin17CRO",
         "Price": "0.5466",
         "24h": "10.13%",
         "Market Cap": "13809453582.0",
         "Volume(24h)": "293,954,387",
         "_deepnote_index_column": 16
        },
        {
         "#": 18,
         "Name": "Olympus18OHM",
         "Price": "538.23",
         "24h": "14.50%",
         "Market Cap": "--",
         "Volume(24h)": "80,991,201",
         "_deepnote_index_column": 17
        },
        {
         "#": 19,
         "Name": "Ryoshi Token19RYOSHI",
         "Price": "3.342e-08",
         "24h": "0.89%",
         "Market Cap": "9409580.0",
         "Volume(24h)": "1,077,409",
         "_deepnote_index_column": 18
        },
        {
         "#": 20,
         "Name": "MetaDoge20METADOGE",
         "Price": "3.162e-05",
         "24h": "4.12%",
         "Market Cap": "--",
         "Volume(24h)": "126,175",
         "_deepnote_index_column": 19
        },
        {
         "#": 21,
         "Name": "Solana21SOL",
         "Price": "183.14",
         "24h": "8.18%",
         "Market Cap": "56000239877.0",
         "Volume(24h)": "3,320,632,356",
         "_deepnote_index_column": 20
        },
        {
         "#": 22,
         "Name": "Cardano22ADA",
         "Price": "1.31",
         "24h": "5.55%",
         "Market Cap": "43707061609.0",
         "Volume(24h)": "2,514,629,582",
         "_deepnote_index_column": 21
        },
        {
         "#": 23,
         "Name": "Kadena23KDA",
         "Price": "10.06",
         "24h": "23.82%",
         "Market Cap": "1618579459.0",
         "Volume(24h)": "64,173,773",
         "_deepnote_index_column": 22
        },
        {
         "#": 24,
         "Name": "Dogecoin24DOGE",
         "Price": "0.1641",
         "24h": "7.00%",
         "Market Cap": "21732504620.0",
         "Volume(24h)": "1,714,495,571",
         "_deepnote_index_column": 23
        },
        {
         "#": 25,
         "Name": "Verasity25VRA",
         "Price": "0.03297",
         "24h": "21.28%",
         "Market Cap": "147389477.0",
         "Volume(24h)": "63,236,304",
         "_deepnote_index_column": 24
        },
        {
         "#": 26,
         "Name": "Algorand26ALGO",
         "Price": "1.75",
         "24h": "6.21%",
         "Market Cap": "10984352208.0",
         "Volume(24h)": "995,078,535",
         "_deepnote_index_column": 25
        },
        {
         "#": 27,
         "Name": "WOLVERINU27WOLVERINU",
         "Price": "Nan",
         "24h": "19.41%",
         "Market Cap": "--",
         "Volume(24h)": "645,392",
         "_deepnote_index_column": 26
        },
        {
         "#": 28,
         "Name": "Harmony28ONE",
         "Price": "0.1653",
         "24h": "15.98%",
         "Market Cap": "1894179494.0",
         "Volume(24h)": "115,998,860",
         "_deepnote_index_column": 27
        },
        {
         "#": 29,
         "Name": "Illuvium29ILV",
         "Price": "Nan",
         "24h": "9.78%",
         "Market Cap": "827235057.0",
         "Volume(24h)": "99,276,029",
         "_deepnote_index_column": 28
        },
        {
         "#": 30,
         "Name": "Fantom30FTM",
         "Price": "1.4",
         "24h": "16.91%",
         "Market Cap": "3571256857.0",
         "Volume(24h)": "523,025,275",
         "_deepnote_index_column": 29
        }
       ],
       "rows_bottom": null
      },
      "text/plain": "     #                   Name     Price     24h      Market Cap  \\\n0    1              1NFT11NFT       0.0  54.05%              --   \n1    2      ShibElon2SHIBELON  0.000005   1.94%              --   \n2    3  PORNROCKET3PORNROCKET       0.0   2.00%              --   \n3    4            Bitcoin4BTC       Nan   2.69%  908579207931.0   \n4    5              Ariva5ARV   0.00047   9.42%      23965983.0   \n5    6  GAMINGDOGE6GAMINGDOGE       Nan   3.55%              --   \n6    7         SHIBA INU7SHIB  0.000034   7.91%   18839613566.0   \n7    8    BNB Hero Token8BNBH      3.08  18.33%              --   \n8    9        Retromoon9RETRO  0.004578  23.25%              --   \n9   10        MicroPets10PETS  0.000003   4.74%      17175741.0   \n10  11      The Sandbox11SAND      5.02  12.97%    4584336884.0   \n11  12     Decentraland12MANA      3.46   9.99%    6320900006.0   \n12  13          Ethereum13ETH       Nan   4.45%  476320783167.0   \n13  14      Binance Coin14BNB    553.71   4.07%   92360043679.0   \n14  15           Greed15GREED   0.01012   5.67%              --   \n15  16     MetaPets16METAPETS       Nan  18.29%              --   \n16  17   Crypto.com Coin17CRO    0.5466  10.13%   13809453582.0   \n17  18           Olympus18OHM    538.23  14.50%              --   \n18  19   Ryoshi Token19RYOSHI       0.0   0.89%       9409580.0   \n19  20     MetaDoge20METADOGE  0.000032   4.12%              --   \n20  21            Solana21SOL    183.14   8.18%   56000239877.0   \n21  22           Cardano22ADA      1.31   5.55%   43707061609.0   \n22  23            Kadena23KDA     10.06  23.82%    1618579459.0   \n23  24         Dogecoin24DOGE    0.1641   7.00%   21732504620.0   \n24  25          Verasity25VRA   0.03297  21.28%     147389477.0   \n25  26         Algorand26ALGO      1.75   6.21%   10984352208.0   \n26  27   WOLVERINU27WOLVERINU       Nan  19.41%              --   \n27  28           Harmony28ONE    0.1653  15.98%    1894179494.0   \n28  29          Illuvium29ILV       Nan   9.78%     827235057.0   \n29  30            Fantom30FTM       1.4  16.91%    3571256857.0   \n\n       Volume(24h)  \n0       10,374,664  \n1        1,361,117  \n2        1,440,486  \n3   34,619,158,269  \n4       19,379,437  \n5        1,138,783  \n6    2,085,570,352  \n7       27,559,690  \n8        1,233,460  \n9        1,001,954  \n10   2,024,552,281  \n11   1,535,497,239  \n12  22,147,433,438  \n13   2,704,916,789  \n14       4,419,985  \n15         546,092  \n16     293,954,387  \n17      80,991,201  \n18       1,077,409  \n19         126,175  \n20   3,320,632,356  \n21   2,514,629,582  \n22      64,173,773  \n23   1,714,495,571  \n24      63,236,304  \n25     995,078,535  \n26         645,392  \n27     115,998,860  \n28      99,276,029  \n29     523,025,275  ",
      "text/html": "<div>\n<style scoped>\n    .dataframe tbody tr th:only-of-type {\n        vertical-align: middle;\n    }\n\n    .dataframe tbody tr th {\n        vertical-align: top;\n    }\n\n    .dataframe thead th {\n        text-align: right;\n    }\n</style>\n<table border=\"1\" class=\"dataframe\">\n  <thead>\n    <tr style=\"text-align: right;\">\n      <th></th>\n      <th>#</th>\n      <th>Name</th>\n      <th>Price</th>\n      <th>24h</th>\n      <th>Market Cap</th>\n      <th>Volume(24h)</th>\n    </tr>\n  </thead>\n  <tbody>\n    <tr>\n      <th>0</th>\n      <td>1</td>\n      <td>1NFT11NFT</td>\n      <td>0.0</td>\n      <td>54.05%</td>\n      <td>--</td>\n      <td>10,374,664</td>\n    </tr>\n    <tr>\n      <th>1</th>\n      <td>2</td>\n      <td>ShibElon2SHIBELON</td>\n      <td>0.000005</td>\n      <td>1.94%</td>\n      <td>--</td>\n      <td>1,361,117</td>\n    </tr>\n    <tr>\n      <th>2</th>\n      <td>3</td>\n      <td>PORNROCKET3PORNROCKET</td>\n      <td>0.0</td>\n      <td>2.00%</td>\n      <td>--</td>\n      <td>1,440,486</td>\n    </tr>\n    <tr>\n      <th>3</th>\n      <td>4</td>\n      <td>Bitcoin4BTC</td>\n      <td>Nan</td>\n      <td>2.69%</td>\n      <td>908579207931.0</td>\n      <td>34,619,158,269</td>\n    </tr>\n    <tr>\n      <th>4</th>\n      <td>5</td>\n      <td>Ariva5ARV</td>\n      <td>0.00047</td>\n      <td>9.42%</td>\n      <td>23965983.0</td>\n      <td>19,379,437</td>\n    </tr>\n    <tr>\n      <th>5</th>\n      <td>6</td>\n      <td>GAMINGDOGE6GAMINGDOGE</td>\n      <td>Nan</td>\n      <td>3.55%</td>\n      <td>--</td>\n      <td>1,138,783</td>\n    </tr>\n    <tr>\n      <th>6</th>\n      <td>7</td>\n      <td>SHIBA INU7SHIB</td>\n      <td>0.000034</td>\n      <td>7.91%</td>\n      <td>18839613566.0</td>\n      <td>2,085,570,352</td>\n    </tr>\n    <tr>\n      <th>7</th>\n      <td>8</td>\n      <td>BNB Hero Token8BNBH</td>\n      <td>3.08</td>\n      <td>18.33%</td>\n      <td>--</td>\n      <td>27,559,690</td>\n    </tr>\n    <tr>\n      <th>8</th>\n      <td>9</td>\n      <td>Retromoon9RETRO</td>\n      <td>0.004578</td>\n      <td>23.25%</td>\n      <td>--</td>\n      <td>1,233,460</td>\n    </tr>\n    <tr>\n      <th>9</th>\n      <td>10</td>\n      <td>MicroPets10PETS</td>\n      <td>0.000003</td>\n      <td>4.74%</td>\n      <td>17175741.0</td>\n      <td>1,001,954</td>\n    </tr>\n    <tr>\n      <th>10</th>\n      <td>11</td>\n      <td>The Sandbox11SAND</td>\n      <td>5.02</td>\n      <td>12.97%</td>\n      <td>4584336884.0</td>\n      <td>2,024,552,281</td>\n    </tr>\n    <tr>\n      <th>11</th>\n      <td>12</td>\n      <td>Decentraland12MANA</td>\n      <td>3.46</td>\n      <td>9.99%</td>\n      <td>6320900006.0</td>\n      <td>1,535,497,239</td>\n    </tr>\n    <tr>\n      <th>12</th>\n      <td>13</td>\n      <td>Ethereum13ETH</td>\n      <td>Nan</td>\n      <td>4.45%</td>\n      <td>476320783167.0</td>\n      <td>22,147,433,438</td>\n    </tr>\n    <tr>\n      <th>13</th>\n      <td>14</td>\n      <td>Binance Coin14BNB</td>\n      <td>553.71</td>\n      <td>4.07%</td>\n      <td>92360043679.0</td>\n      <td>2,704,916,789</td>\n    </tr>\n    <tr>\n      <th>14</th>\n      <td>15</td>\n      <td>Greed15GREED</td>\n      <td>0.01012</td>\n      <td>5.67%</td>\n      <td>--</td>\n      <td>4,419,985</td>\n    </tr>\n    <tr>\n      <th>15</th>\n      <td>16</td>\n      <td>MetaPets16METAPETS</td>\n      <td>Nan</td>\n      <td>18.29%</td>\n      <td>--</td>\n      <td>546,092</td>\n    </tr>\n    <tr>\n      <th>16</th>\n      <td>17</td>\n      <td>Crypto.com Coin17CRO</td>\n      <td>0.5466</td>\n      <td>10.13%</td>\n      <td>13809453582.0</td>\n      <td>293,954,387</td>\n    </tr>\n    <tr>\n      <th>17</th>\n      <td>18</td>\n      <td>Olympus18OHM</td>\n      <td>538.23</td>\n      <td>14.50%</td>\n      <td>--</td>\n      <td>80,991,201</td>\n    </tr>\n    <tr>\n      <th>18</th>\n      <td>19</td>\n      <td>Ryoshi Token19RYOSHI</td>\n      <td>0.0</td>\n      <td>0.89%</td>\n      <td>9409580.0</td>\n      <td>1,077,409</td>\n    </tr>\n    <tr>\n      <th>19</th>\n      <td>20</td>\n      <td>MetaDoge20METADOGE</td>\n      <td>0.000032</td>\n      <td>4.12%</td>\n      <td>--</td>\n      <td>126,175</td>\n    </tr>\n    <tr>\n      <th>20</th>\n      <td>21</td>\n      <td>Solana21SOL</td>\n      <td>183.14</td>\n      <td>8.18%</td>\n      <td>56000239877.0</td>\n      <td>3,320,632,356</td>\n    </tr>\n    <tr>\n      <th>21</th>\n      <td>22</td>\n      <td>Cardano22ADA</td>\n      <td>1.31</td>\n      <td>5.55%</td>\n      <td>43707061609.0</td>\n      <td>2,514,629,582</td>\n    </tr>\n    <tr>\n      <th>22</th>\n      <td>23</td>\n      <td>Kadena23KDA</td>\n      <td>10.06</td>\n      <td>23.82%</td>\n      <td>1618579459.0</td>\n      <td>64,173,773</td>\n    </tr>\n    <tr>\n      <th>23</th>\n      <td>24</td>\n      <td>Dogecoin24DOGE</td>\n      <td>0.1641</td>\n      <td>7.00%</td>\n      <td>21732504620.0</td>\n      <td>1,714,495,571</td>\n    </tr>\n    <tr>\n      <th>24</th>\n      <td>25</td>\n      <td>Verasity25VRA</td>\n      <td>0.03297</td>\n      <td>21.28%</td>\n      <td>147389477.0</td>\n      <td>63,236,304</td>\n    </tr>\n    <tr>\n      <th>25</th>\n      <td>26</td>\n      <td>Algorand26ALGO</td>\n      <td>1.75</td>\n      <td>6.21%</td>\n      <td>10984352208.0</td>\n      <td>995,078,535</td>\n    </tr>\n    <tr>\n      <th>26</th>\n      <td>27</td>\n      <td>WOLVERINU27WOLVERINU</td>\n      <td>Nan</td>\n      <td>19.41%</td>\n      <td>--</td>\n      <td>645,392</td>\n    </tr>\n    <tr>\n      <th>27</th>\n      <td>28</td>\n      <td>Harmony28ONE</td>\n      <td>0.1653</td>\n      <td>15.98%</td>\n      <td>1894179494.0</td>\n      <td>115,998,860</td>\n    </tr>\n    <tr>\n      <th>28</th>\n      <td>29</td>\n      <td>Illuvium29ILV</td>\n      <td>Nan</td>\n      <td>9.78%</td>\n      <td>827235057.0</td>\n      <td>99,276,029</td>\n    </tr>\n    <tr>\n      <th>29</th>\n      <td>30</td>\n      <td>Fantom30FTM</td>\n      <td>1.4</td>\n      <td>16.91%</td>\n      <td>3571256857.0</td>\n      <td>523,025,275</td>\n    </tr>\n  </tbody>\n</table>\n</div>"
     },
     "metadata": {}
    }
   ]
  },
  {
   "cell_type": "code",
   "source": "'''''\nNext steps:\n1. Enable the df to load every 30 seconds(later will set to 5 mins) so we can see updates in token prices\n2. Store updated data in a database(psql) or another dataframe\n3. Calculate the plot slopes of tokens.\n '''",
   "metadata": {
    "tags": [],
    "cell_id": "00001-6754ee6d-c06c-482e-9d29-6d0a4900468d",
    "deepnote_to_be_reexecuted": false,
    "source_hash": "8b31d1a6",
    "execution_start": 1638779212760,
    "execution_millis": 112,
    "deepnote_output_heights": [
     21.1875
    ],
    "deepnote_cell_type": "code"
   },
   "outputs": [
    {
     "output_type": "execute_result",
     "execution_count": 4,
     "data": {
      "text/plain": "\"''\\nNext steps:\\n1. Enable the df to load every 30 seconds(later will set to 5 mins) so we can see updates in token prices\\n2. Store updated data in a database(psql) or another dataframe\\n3. Calculate the plot slopes of tokens.\\n \""
     },
     "metadata": {}
    }
   ],
   "execution_count": 4
  },
  {
   "cell_type": "code",
   "source": "",
   "metadata": {
    "tags": [],
    "cell_id": "00001-2e785c8b-8ea5-4c7b-bce2-309889ee2b5c",
    "deepnote_to_be_reexecuted": false,
    "source_hash": "b623e53d",
    "execution_start": 1638779173460,
    "execution_millis": 0,
    "deepnote_cell_type": "code"
   },
   "outputs": [],
   "execution_count": 2
  },
  {
   "cell_type": "code",
   "source": "",
   "metadata": {
    "tags": [],
    "cell_id": "00004-17aa68fc-7279-4bd4-b797-99f010ee35b1",
    "deepnote_to_be_reexecuted": true,
    "source_hash": "b623e53d",
    "deepnote_cell_type": "code"
   },
   "outputs": [],
   "execution_count": null
  },
  {
   "cell_type": "markdown",
   "source": "<a style='text-decoration:none;line-height:16px;display:flex;color:#5B5B62;padding:10px;justify-content:end;' href='https://deepnote.com?utm_source=created-in-deepnote-cell&projectId=a94c9424-2cc1-49ad-8c88-017510010155' target=\"_blank\">\n<img alt='Created in deepnote.com' style='display:inline;max-height:16px;margin:0px;margin-right:7.5px;' src='data:image/svg+xml;base64,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' > </img>\nCreated in <span style='font-weight:600;margin-left:4px;'>Deepnote</span></a>",
   "metadata": {
    "tags": [],
    "created_in_deepnote_cell": true,
    "deepnote_cell_type": "markdown"
   }
  }
 ],
 "nbformat": 4,
 "nbformat_minor": 2,
 "metadata": {
  "orig_nbformat": 2,
  "deepnote": {
   "is_reactive": false
  },
  "deepnote_notebook_id": "dcbd0d04-30f9-4cb3-9732-6ea17069c119",
  "deepnote_execution_queue": []
 }
}